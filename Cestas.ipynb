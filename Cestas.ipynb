{
 "cells": [
  {
   "cell_type": "markdown",
   "metadata": {},
   "source": [
    "***Color manual***\n",
    "\n",
    "<div class=\"alert alert-block alert-success\">\n",
    "<b>Green - Libraries</b>\n",
    "</div>\n",
    "\n",
    "<div class=\"alert alert-block alert-info\">\n",
    "<b>Blue - Information</b>\n",
    "</div>\n",
    "\n",
    "<div class=\"alert alert-block alert-danger\">\n",
    "<b>Red - Problems</b>\n",
    "</div>\n",
    "\n",
    "***"
   ]
  },
  {
   "cell_type": "markdown",
   "metadata": {},
   "source": [
    "<div class=\"alert alert-block alert-success\">\n",
    "<b>Import libraries</b>\n",
    "</div>"
   ]
  },
  {
   "cell_type": "code",
   "execution_count": 1,
   "metadata": {},
   "outputs": [],
   "source": [
    "import pandas as pd\n",
    "import plotly.graph_objs as go"
   ]
  },
  {
   "cell_type": "markdown",
   "metadata": {},
   "source": [
    "<div class=\"alert alert-block alert-info\">\n",
    "<b>Load the Data, set index and info about data</b>\n",
    "</div>"
   ]
  },
  {
   "cell_type": "code",
   "execution_count": 3,
   "metadata": {
    "scrolled": true
   },
   "outputs": [
    {
     "data": {
      "text/html": [
       "<div>\n",
       "<style scoped>\n",
       "    .dataframe tbody tr th:only-of-type {\n",
       "        vertical-align: middle;\n",
       "    }\n",
       "\n",
       "    .dataframe tbody tr th {\n",
       "        vertical-align: top;\n",
       "    }\n",
       "\n",
       "    .dataframe thead th {\n",
       "        text-align: right;\n",
       "    }\n",
       "</style>\n",
       "<table border=\"1\" class=\"dataframe\">\n",
       "  <thead>\n",
       "    <tr style=\"text-align: right;\">\n",
       "      <th></th>\n",
       "      <th>quantidade</th>\n",
       "      <th>kg/unidade</th>\n",
       "      <th>preço/unidade</th>\n",
       "      <th>kg/aluno</th>\n",
       "      <th>preço/aluno</th>\n",
       "      <th>kg total</th>\n",
       "      <th>preço total</th>\n",
       "    </tr>\n",
       "    <tr>\n",
       "      <th>alimento</th>\n",
       "      <th></th>\n",
       "      <th></th>\n",
       "      <th></th>\n",
       "      <th></th>\n",
       "      <th></th>\n",
       "      <th></th>\n",
       "      <th></th>\n",
       "    </tr>\n",
       "  </thead>\n",
       "  <tbody>\n",
       "    <tr>\n",
       "      <td>Arroz</td>\n",
       "      <td>1</td>\n",
       "      <td>1.00</td>\n",
       "      <td>2.89</td>\n",
       "      <td>1.00</td>\n",
       "      <td>2.89</td>\n",
       "      <td>1998.00</td>\n",
       "      <td>5774.22</td>\n",
       "    </tr>\n",
       "    <tr>\n",
       "      <td>Feijão</td>\n",
       "      <td>1</td>\n",
       "      <td>1.00</td>\n",
       "      <td>6.29</td>\n",
       "      <td>1.00</td>\n",
       "      <td>6.29</td>\n",
       "      <td>1998.00</td>\n",
       "      <td>12567.42</td>\n",
       "    </tr>\n",
       "    <tr>\n",
       "      <td>Leite</td>\n",
       "      <td>4</td>\n",
       "      <td>0.20</td>\n",
       "      <td>4.69</td>\n",
       "      <td>0.80</td>\n",
       "      <td>18.76</td>\n",
       "      <td>1598.40</td>\n",
       "      <td>37482.48</td>\n",
       "    </tr>\n",
       "    <tr>\n",
       "      <td>Macarrão</td>\n",
       "      <td>1</td>\n",
       "      <td>0.50</td>\n",
       "      <td>1.99</td>\n",
       "      <td>0.50</td>\n",
       "      <td>1.99</td>\n",
       "      <td>999.00</td>\n",
       "      <td>3976.02</td>\n",
       "    </tr>\n",
       "    <tr>\n",
       "      <td>Mucilon</td>\n",
       "      <td>2</td>\n",
       "      <td>0.23</td>\n",
       "      <td>4.89</td>\n",
       "      <td>0.46</td>\n",
       "      <td>9.78</td>\n",
       "      <td>919.08</td>\n",
       "      <td>19540.44</td>\n",
       "    </tr>\n",
       "  </tbody>\n",
       "</table>\n",
       "</div>"
      ],
      "text/plain": [
       "          quantidade  kg/unidade  preço/unidade  kg/aluno  preço/aluno  \\\n",
       "alimento                                                                 \n",
       "Arroz              1        1.00           2.89      1.00         2.89   \n",
       "Feijão             1        1.00           6.29      1.00         6.29   \n",
       "Leite              4        0.20           4.69      0.80        18.76   \n",
       "Macarrão           1        0.50           1.99      0.50         1.99   \n",
       "Mucilon            2        0.23           4.89      0.46         9.78   \n",
       "\n",
       "          kg total  preço total  \n",
       "alimento                         \n",
       "Arroz      1998.00      5774.22  \n",
       "Feijão     1998.00     12567.42  \n",
       "Leite      1598.40     37482.48  \n",
       "Macarrão    999.00      3976.02  \n",
       "Mucilon     919.08     19540.44  "
      ]
     },
     "execution_count": 3,
     "metadata": {},
     "output_type": "execute_result"
    }
   ],
   "source": [
    "df = pd.read_excel('Cestas.xlsx', sheet_name = '6 meses a 3 anos')\n",
    "df.set_index('alimento', inplace = True)\n",
    "df.sort_index(inplace = True)\n",
    "df"
   ]
  },
  {
   "cell_type": "code",
   "execution_count": 4,
   "metadata": {},
   "outputs": [
    {
     "data": {
      "text/html": [
       "<div>\n",
       "<style scoped>\n",
       "    .dataframe tbody tr th:only-of-type {\n",
       "        vertical-align: middle;\n",
       "    }\n",
       "\n",
       "    .dataframe tbody tr th {\n",
       "        vertical-align: top;\n",
       "    }\n",
       "\n",
       "    .dataframe thead th {\n",
       "        text-align: right;\n",
       "    }\n",
       "</style>\n",
       "<table border=\"1\" class=\"dataframe\">\n",
       "  <thead>\n",
       "    <tr style=\"text-align: right;\">\n",
       "      <th></th>\n",
       "      <th>quantidade</th>\n",
       "      <th>kg/unidade</th>\n",
       "      <th>preço/unidade</th>\n",
       "      <th>kg/aluno</th>\n",
       "      <th>preço/aluno</th>\n",
       "      <th>kg total</th>\n",
       "      <th>preço total</th>\n",
       "    </tr>\n",
       "    <tr>\n",
       "      <th>alimento</th>\n",
       "      <th></th>\n",
       "      <th></th>\n",
       "      <th></th>\n",
       "      <th></th>\n",
       "      <th></th>\n",
       "      <th></th>\n",
       "      <th></th>\n",
       "    </tr>\n",
       "  </thead>\n",
       "  <tbody>\n",
       "    <tr>\n",
       "      <td>Arroz</td>\n",
       "      <td>2</td>\n",
       "      <td>1.0</td>\n",
       "      <td>2.89</td>\n",
       "      <td>2.0</td>\n",
       "      <td>5.78</td>\n",
       "      <td>4316.0</td>\n",
       "      <td>12473.24</td>\n",
       "    </tr>\n",
       "    <tr>\n",
       "      <td>Açucar</td>\n",
       "      <td>1</td>\n",
       "      <td>1.0</td>\n",
       "      <td>2.29</td>\n",
       "      <td>1.0</td>\n",
       "      <td>2.29</td>\n",
       "      <td>2158.0</td>\n",
       "      <td>4941.82</td>\n",
       "    </tr>\n",
       "    <tr>\n",
       "      <td>Biscoito cracker</td>\n",
       "      <td>1</td>\n",
       "      <td>0.4</td>\n",
       "      <td>4.49</td>\n",
       "      <td>0.4</td>\n",
       "      <td>4.49</td>\n",
       "      <td>863.2</td>\n",
       "      <td>9689.42</td>\n",
       "    </tr>\n",
       "    <tr>\n",
       "      <td>Biscoito maria</td>\n",
       "      <td>1</td>\n",
       "      <td>0.4</td>\n",
       "      <td>5.89</td>\n",
       "      <td>0.4</td>\n",
       "      <td>5.89</td>\n",
       "      <td>863.2</td>\n",
       "      <td>12710.62</td>\n",
       "    </tr>\n",
       "    <tr>\n",
       "      <td>Feijão</td>\n",
       "      <td>1</td>\n",
       "      <td>1.0</td>\n",
       "      <td>6.29</td>\n",
       "      <td>1.0</td>\n",
       "      <td>6.29</td>\n",
       "      <td>2158.0</td>\n",
       "      <td>13573.82</td>\n",
       "    </tr>\n",
       "    <tr>\n",
       "      <td>Leite</td>\n",
       "      <td>4</td>\n",
       "      <td>0.2</td>\n",
       "      <td>4.69</td>\n",
       "      <td>0.8</td>\n",
       "      <td>18.76</td>\n",
       "      <td>1726.4</td>\n",
       "      <td>40484.08</td>\n",
       "    </tr>\n",
       "    <tr>\n",
       "      <td>Macarrão</td>\n",
       "      <td>2</td>\n",
       "      <td>0.5</td>\n",
       "      <td>1.99</td>\n",
       "      <td>1.0</td>\n",
       "      <td>3.98</td>\n",
       "      <td>2158.0</td>\n",
       "      <td>8588.84</td>\n",
       "    </tr>\n",
       "    <tr>\n",
       "      <td>Massa de milho</td>\n",
       "      <td>2</td>\n",
       "      <td>0.5</td>\n",
       "      <td>1.49</td>\n",
       "      <td>1.0</td>\n",
       "      <td>2.98</td>\n",
       "      <td>2158.0</td>\n",
       "      <td>6430.84</td>\n",
       "    </tr>\n",
       "    <tr>\n",
       "      <td>Sal</td>\n",
       "      <td>1</td>\n",
       "      <td>1.0</td>\n",
       "      <td>0.79</td>\n",
       "      <td>1.0</td>\n",
       "      <td>0.79</td>\n",
       "      <td>2158.0</td>\n",
       "      <td>1704.82</td>\n",
       "    </tr>\n",
       "    <tr>\n",
       "      <td>Óleo</td>\n",
       "      <td>1</td>\n",
       "      <td>0.9</td>\n",
       "      <td>3.59</td>\n",
       "      <td>0.9</td>\n",
       "      <td>3.59</td>\n",
       "      <td>1942.2</td>\n",
       "      <td>7747.22</td>\n",
       "    </tr>\n",
       "  </tbody>\n",
       "</table>\n",
       "</div>"
      ],
      "text/plain": [
       "                  quantidade  kg/unidade  preço/unidade  kg/aluno  \\\n",
       "alimento                                                            \n",
       "Arroz                      2         1.0           2.89       2.0   \n",
       "Açucar                     1         1.0           2.29       1.0   \n",
       "Biscoito cracker           1         0.4           4.49       0.4   \n",
       "Biscoito maria             1         0.4           5.89       0.4   \n",
       "Feijão                     1         1.0           6.29       1.0   \n",
       "Leite                      4         0.2           4.69       0.8   \n",
       "Macarrão                   2         0.5           1.99       1.0   \n",
       "Massa de milho             2         0.5           1.49       1.0   \n",
       "Sal                        1         1.0           0.79       1.0   \n",
       "Óleo                       1         0.9           3.59       0.9   \n",
       "\n",
       "                  preço/aluno  kg total  preço total  \n",
       "alimento                                              \n",
       "Arroz                    5.78    4316.0     12473.24  \n",
       "Açucar                   2.29    2158.0      4941.82  \n",
       "Biscoito cracker         4.49     863.2      9689.42  \n",
       "Biscoito maria           5.89     863.2     12710.62  \n",
       "Feijão                   6.29    2158.0     13573.82  \n",
       "Leite                   18.76    1726.4     40484.08  \n",
       "Macarrão                 3.98    2158.0      8588.84  \n",
       "Massa de milho           2.98    2158.0      6430.84  \n",
       "Sal                      0.79    2158.0      1704.82  \n",
       "Óleo                     3.59    1942.2      7747.22  "
      ]
     },
     "execution_count": 4,
     "metadata": {},
     "output_type": "execute_result"
    }
   ],
   "source": [
    "df1 = pd.read_excel('Cestas.xlsx', sheet_name = '3 anos a 6 anos')\n",
    "df1.set_index('alimento', inplace = True)\n",
    "df1.sort_index(inplace = True)\n",
    "df1"
   ]
  },
  {
   "cell_type": "code",
   "execution_count": 5,
   "metadata": {},
   "outputs": [
    {
     "data": {
      "text/html": [
       "<div>\n",
       "<style scoped>\n",
       "    .dataframe tbody tr th:only-of-type {\n",
       "        vertical-align: middle;\n",
       "    }\n",
       "\n",
       "    .dataframe tbody tr th {\n",
       "        vertical-align: top;\n",
       "    }\n",
       "\n",
       "    .dataframe thead th {\n",
       "        text-align: right;\n",
       "    }\n",
       "</style>\n",
       "<table border=\"1\" class=\"dataframe\">\n",
       "  <thead>\n",
       "    <tr style=\"text-align: right;\">\n",
       "      <th></th>\n",
       "      <th>quantidade</th>\n",
       "      <th>kg/unidade</th>\n",
       "      <th>preço/unidade</th>\n",
       "      <th>kg/aluno</th>\n",
       "      <th>preço/aluno</th>\n",
       "      <th>kg total</th>\n",
       "      <th>preço total</th>\n",
       "    </tr>\n",
       "    <tr>\n",
       "      <th>alimento</th>\n",
       "      <th></th>\n",
       "      <th></th>\n",
       "      <th></th>\n",
       "      <th></th>\n",
       "      <th></th>\n",
       "      <th></th>\n",
       "      <th></th>\n",
       "    </tr>\n",
       "  </thead>\n",
       "  <tbody>\n",
       "    <tr>\n",
       "      <td>Arroz</td>\n",
       "      <td>2</td>\n",
       "      <td>1.0</td>\n",
       "      <td>2.89</td>\n",
       "      <td>2.0</td>\n",
       "      <td>5.78</td>\n",
       "      <td>19382.0</td>\n",
       "      <td>56013.98</td>\n",
       "    </tr>\n",
       "    <tr>\n",
       "      <td>Açucar</td>\n",
       "      <td>1</td>\n",
       "      <td>1.0</td>\n",
       "      <td>2.29</td>\n",
       "      <td>1.0</td>\n",
       "      <td>2.29</td>\n",
       "      <td>9691.0</td>\n",
       "      <td>22192.39</td>\n",
       "    </tr>\n",
       "    <tr>\n",
       "      <td>Biscoito cracker</td>\n",
       "      <td>1</td>\n",
       "      <td>0.4</td>\n",
       "      <td>4.49</td>\n",
       "      <td>0.4</td>\n",
       "      <td>4.49</td>\n",
       "      <td>3876.4</td>\n",
       "      <td>43512.59</td>\n",
       "    </tr>\n",
       "    <tr>\n",
       "      <td>Biscoito maria</td>\n",
       "      <td>1</td>\n",
       "      <td>0.4</td>\n",
       "      <td>5.89</td>\n",
       "      <td>0.4</td>\n",
       "      <td>5.89</td>\n",
       "      <td>3876.4</td>\n",
       "      <td>57079.99</td>\n",
       "    </tr>\n",
       "    <tr>\n",
       "      <td>Charque traseiro</td>\n",
       "      <td>1</td>\n",
       "      <td>0.5</td>\n",
       "      <td>12.29</td>\n",
       "      <td>0.5</td>\n",
       "      <td>12.29</td>\n",
       "      <td>4845.5</td>\n",
       "      <td>119102.39</td>\n",
       "    </tr>\n",
       "    <tr>\n",
       "      <td>Farinha de mandioca</td>\n",
       "      <td>1</td>\n",
       "      <td>1.0</td>\n",
       "      <td>2.99</td>\n",
       "      <td>1.0</td>\n",
       "      <td>2.99</td>\n",
       "      <td>9691.0</td>\n",
       "      <td>28976.09</td>\n",
       "    </tr>\n",
       "    <tr>\n",
       "      <td>Feijão</td>\n",
       "      <td>1</td>\n",
       "      <td>1.0</td>\n",
       "      <td>6.29</td>\n",
       "      <td>1.0</td>\n",
       "      <td>6.29</td>\n",
       "      <td>9691.0</td>\n",
       "      <td>60956.39</td>\n",
       "    </tr>\n",
       "    <tr>\n",
       "      <td>Macarrão</td>\n",
       "      <td>2</td>\n",
       "      <td>0.5</td>\n",
       "      <td>1.99</td>\n",
       "      <td>1.0</td>\n",
       "      <td>3.98</td>\n",
       "      <td>9691.0</td>\n",
       "      <td>38570.18</td>\n",
       "    </tr>\n",
       "    <tr>\n",
       "      <td>Massa de milho</td>\n",
       "      <td>2</td>\n",
       "      <td>0.5</td>\n",
       "      <td>1.49</td>\n",
       "      <td>1.0</td>\n",
       "      <td>2.98</td>\n",
       "      <td>9691.0</td>\n",
       "      <td>28879.18</td>\n",
       "    </tr>\n",
       "    <tr>\n",
       "      <td>Sal</td>\n",
       "      <td>1</td>\n",
       "      <td>1.0</td>\n",
       "      <td>0.79</td>\n",
       "      <td>1.0</td>\n",
       "      <td>0.79</td>\n",
       "      <td>9691.0</td>\n",
       "      <td>7655.89</td>\n",
       "    </tr>\n",
       "    <tr>\n",
       "      <td>Óleo</td>\n",
       "      <td>1</td>\n",
       "      <td>0.9</td>\n",
       "      <td>3.59</td>\n",
       "      <td>0.9</td>\n",
       "      <td>3.59</td>\n",
       "      <td>8721.9</td>\n",
       "      <td>34790.69</td>\n",
       "    </tr>\n",
       "  </tbody>\n",
       "</table>\n",
       "</div>"
      ],
      "text/plain": [
       "                     quantidade  kg/unidade  preço/unidade  kg/aluno  \\\n",
       "alimento                                                               \n",
       "Arroz                         2         1.0           2.89       2.0   \n",
       "Açucar                        1         1.0           2.29       1.0   \n",
       "Biscoito cracker              1         0.4           4.49       0.4   \n",
       "Biscoito maria                1         0.4           5.89       0.4   \n",
       "Charque traseiro              1         0.5          12.29       0.5   \n",
       "Farinha de mandioca           1         1.0           2.99       1.0   \n",
       "Feijão                        1         1.0           6.29       1.0   \n",
       "Macarrão                      2         0.5           1.99       1.0   \n",
       "Massa de milho                2         0.5           1.49       1.0   \n",
       "Sal                           1         1.0           0.79       1.0   \n",
       "Óleo                          1         0.9           3.59       0.9   \n",
       "\n",
       "                     preço/aluno  kg total  preço total  \n",
       "alimento                                                 \n",
       "Arroz                       5.78   19382.0     56013.98  \n",
       "Açucar                      2.29    9691.0     22192.39  \n",
       "Biscoito cracker            4.49    3876.4     43512.59  \n",
       "Biscoito maria              5.89    3876.4     57079.99  \n",
       "Charque traseiro           12.29    4845.5    119102.39  \n",
       "Farinha de mandioca         2.99    9691.0     28976.09  \n",
       "Feijão                      6.29    9691.0     60956.39  \n",
       "Macarrão                    3.98    9691.0     38570.18  \n",
       "Massa de milho              2.98    9691.0     28879.18  \n",
       "Sal                         0.79    9691.0      7655.89  \n",
       "Óleo                        3.59    8721.9     34790.69  "
      ]
     },
     "execution_count": 5,
     "metadata": {},
     "output_type": "execute_result"
    }
   ],
   "source": [
    "df2 = pd.read_excel('Cestas.xlsx', sheet_name = '6 anos a 15 anos')\n",
    "df2.set_index('alimento', inplace = True)  \n",
    "df2.sort_index(inplace = True)\n",
    "df2"
   ]
  },
  {
   "cell_type": "markdown",
   "metadata": {},
   "source": [
    "<div class=\"alert alert-block alert-info\">\n",
    "<b>Plot bar graph of all dataframes with plotly go</b>\n",
    "</div>"
   ]
  },
  {
   "cell_type": "code",
   "execution_count": 19,
   "metadata": {},
   "outputs": [
    {
     "data": {
      "application/vnd.plotly.v1+json": {
       "config": {
        "plotlyServerURL": "https://plotly.com"
       },
       "data": [
        {
         "marker": {
          "color": "rgb(200,50,50)",
          "line": {
           "color": "rgb(1,1,1)",
           "width": 2
          }
         },
         "name": "6 meses a 3 anos",
         "type": "bar",
         "x": [
          "Arroz",
          "Feijão",
          "Leite",
          "Macarrão",
          "Mucilon "
         ],
         "y": [
          5774.22,
          12567.42,
          37482.48,
          3976.02,
          19540.44
         ]
        },
        {
         "marker": {
          "color": "rgb(50,200,50)",
          "line": {
           "color": "rgb(1,1,1)",
           "width": 2
          }
         },
         "name": "3 anos a 6 anos",
         "type": "bar",
         "x": [
          "Arroz",
          "Açucar",
          "Biscoito cracker",
          "Biscoito maria",
          "Feijão",
          "Leite",
          "Macarrão",
          "Massa de milho",
          "Sal",
          "Óleo"
         ],
         "y": [
          12473.24,
          4941.82,
          9689.42,
          12710.619999999999,
          13573.82,
          40484.08,
          8588.84,
          6430.84,
          1704.8200000000002,
          7747.219999999999
         ]
        },
        {
         "marker": {
          "color": "rgb(50,50,200)",
          "line": {
           "color": "rgb(1,1,1)",
           "width": 2
          }
         },
         "name": "6 anos a 15 anos",
         "type": "bar",
         "x": [
          "Arroz",
          "Açucar",
          "Biscoito cracker",
          "Biscoito maria",
          "Charque traseiro",
          "Farinha de mandioca",
          "Feijão",
          "Macarrão",
          "Massa de milho",
          "Sal",
          "Óleo"
         ],
         "y": [
          56013.98,
          22192.39,
          43512.590000000004,
          57079.99,
          119102.38999999998,
          28976.090000000004,
          60956.39,
          38570.18,
          28879.18,
          7655.89,
          34790.689999999995
         ]
        }
       ],
       "layout": {
        "barmode": "stack",
        "font": {
         "color": "white",
         "family": "Helvetica, Helvetica",
         "size": 15
        },
        "paper_bgcolor": "rgba(1,1,1,1)",
        "plot_bgcolor": "rgba(1,1,1,1)",
        "template": {
         "data": {
          "bar": [
           {
            "error_x": {
             "color": "#2a3f5f"
            },
            "error_y": {
             "color": "#2a3f5f"
            },
            "marker": {
             "line": {
              "color": "#E5ECF6",
              "width": 0.5
             }
            },
            "type": "bar"
           }
          ],
          "barpolar": [
           {
            "marker": {
             "line": {
              "color": "#E5ECF6",
              "width": 0.5
             }
            },
            "type": "barpolar"
           }
          ],
          "carpet": [
           {
            "aaxis": {
             "endlinecolor": "#2a3f5f",
             "gridcolor": "white",
             "linecolor": "white",
             "minorgridcolor": "white",
             "startlinecolor": "#2a3f5f"
            },
            "baxis": {
             "endlinecolor": "#2a3f5f",
             "gridcolor": "white",
             "linecolor": "white",
             "minorgridcolor": "white",
             "startlinecolor": "#2a3f5f"
            },
            "type": "carpet"
           }
          ],
          "choropleth": [
           {
            "colorbar": {
             "outlinewidth": 0,
             "ticks": ""
            },
            "type": "choropleth"
           }
          ],
          "contour": [
           {
            "colorbar": {
             "outlinewidth": 0,
             "ticks": ""
            },
            "colorscale": [
             [
              0,
              "#0d0887"
             ],
             [
              0.1111111111111111,
              "#46039f"
             ],
             [
              0.2222222222222222,
              "#7201a8"
             ],
             [
              0.3333333333333333,
              "#9c179e"
             ],
             [
              0.4444444444444444,
              "#bd3786"
             ],
             [
              0.5555555555555556,
              "#d8576b"
             ],
             [
              0.6666666666666666,
              "#ed7953"
             ],
             [
              0.7777777777777778,
              "#fb9f3a"
             ],
             [
              0.8888888888888888,
              "#fdca26"
             ],
             [
              1,
              "#f0f921"
             ]
            ],
            "type": "contour"
           }
          ],
          "contourcarpet": [
           {
            "colorbar": {
             "outlinewidth": 0,
             "ticks": ""
            },
            "type": "contourcarpet"
           }
          ],
          "heatmap": [
           {
            "colorbar": {
             "outlinewidth": 0,
             "ticks": ""
            },
            "colorscale": [
             [
              0,
              "#0d0887"
             ],
             [
              0.1111111111111111,
              "#46039f"
             ],
             [
              0.2222222222222222,
              "#7201a8"
             ],
             [
              0.3333333333333333,
              "#9c179e"
             ],
             [
              0.4444444444444444,
              "#bd3786"
             ],
             [
              0.5555555555555556,
              "#d8576b"
             ],
             [
              0.6666666666666666,
              "#ed7953"
             ],
             [
              0.7777777777777778,
              "#fb9f3a"
             ],
             [
              0.8888888888888888,
              "#fdca26"
             ],
             [
              1,
              "#f0f921"
             ]
            ],
            "type": "heatmap"
           }
          ],
          "heatmapgl": [
           {
            "colorbar": {
             "outlinewidth": 0,
             "ticks": ""
            },
            "colorscale": [
             [
              0,
              "#0d0887"
             ],
             [
              0.1111111111111111,
              "#46039f"
             ],
             [
              0.2222222222222222,
              "#7201a8"
             ],
             [
              0.3333333333333333,
              "#9c179e"
             ],
             [
              0.4444444444444444,
              "#bd3786"
             ],
             [
              0.5555555555555556,
              "#d8576b"
             ],
             [
              0.6666666666666666,
              "#ed7953"
             ],
             [
              0.7777777777777778,
              "#fb9f3a"
             ],
             [
              0.8888888888888888,
              "#fdca26"
             ],
             [
              1,
              "#f0f921"
             ]
            ],
            "type": "heatmapgl"
           }
          ],
          "histogram": [
           {
            "marker": {
             "colorbar": {
              "outlinewidth": 0,
              "ticks": ""
             }
            },
            "type": "histogram"
           }
          ],
          "histogram2d": [
           {
            "colorbar": {
             "outlinewidth": 0,
             "ticks": ""
            },
            "colorscale": [
             [
              0,
              "#0d0887"
             ],
             [
              0.1111111111111111,
              "#46039f"
             ],
             [
              0.2222222222222222,
              "#7201a8"
             ],
             [
              0.3333333333333333,
              "#9c179e"
             ],
             [
              0.4444444444444444,
              "#bd3786"
             ],
             [
              0.5555555555555556,
              "#d8576b"
             ],
             [
              0.6666666666666666,
              "#ed7953"
             ],
             [
              0.7777777777777778,
              "#fb9f3a"
             ],
             [
              0.8888888888888888,
              "#fdca26"
             ],
             [
              1,
              "#f0f921"
             ]
            ],
            "type": "histogram2d"
           }
          ],
          "histogram2dcontour": [
           {
            "colorbar": {
             "outlinewidth": 0,
             "ticks": ""
            },
            "colorscale": [
             [
              0,
              "#0d0887"
             ],
             [
              0.1111111111111111,
              "#46039f"
             ],
             [
              0.2222222222222222,
              "#7201a8"
             ],
             [
              0.3333333333333333,
              "#9c179e"
             ],
             [
              0.4444444444444444,
              "#bd3786"
             ],
             [
              0.5555555555555556,
              "#d8576b"
             ],
             [
              0.6666666666666666,
              "#ed7953"
             ],
             [
              0.7777777777777778,
              "#fb9f3a"
             ],
             [
              0.8888888888888888,
              "#fdca26"
             ],
             [
              1,
              "#f0f921"
             ]
            ],
            "type": "histogram2dcontour"
           }
          ],
          "mesh3d": [
           {
            "colorbar": {
             "outlinewidth": 0,
             "ticks": ""
            },
            "type": "mesh3d"
           }
          ],
          "parcoords": [
           {
            "line": {
             "colorbar": {
              "outlinewidth": 0,
              "ticks": ""
             }
            },
            "type": "parcoords"
           }
          ],
          "pie": [
           {
            "automargin": true,
            "type": "pie"
           }
          ],
          "scatter": [
           {
            "marker": {
             "colorbar": {
              "outlinewidth": 0,
              "ticks": ""
             }
            },
            "type": "scatter"
           }
          ],
          "scatter3d": [
           {
            "line": {
             "colorbar": {
              "outlinewidth": 0,
              "ticks": ""
             }
            },
            "marker": {
             "colorbar": {
              "outlinewidth": 0,
              "ticks": ""
             }
            },
            "type": "scatter3d"
           }
          ],
          "scattercarpet": [
           {
            "marker": {
             "colorbar": {
              "outlinewidth": 0,
              "ticks": ""
             }
            },
            "type": "scattercarpet"
           }
          ],
          "scattergeo": [
           {
            "marker": {
             "colorbar": {
              "outlinewidth": 0,
              "ticks": ""
             }
            },
            "type": "scattergeo"
           }
          ],
          "scattergl": [
           {
            "marker": {
             "colorbar": {
              "outlinewidth": 0,
              "ticks": ""
             }
            },
            "type": "scattergl"
           }
          ],
          "scattermapbox": [
           {
            "marker": {
             "colorbar": {
              "outlinewidth": 0,
              "ticks": ""
             }
            },
            "type": "scattermapbox"
           }
          ],
          "scatterpolar": [
           {
            "marker": {
             "colorbar": {
              "outlinewidth": 0,
              "ticks": ""
             }
            },
            "type": "scatterpolar"
           }
          ],
          "scatterpolargl": [
           {
            "marker": {
             "colorbar": {
              "outlinewidth": 0,
              "ticks": ""
             }
            },
            "type": "scatterpolargl"
           }
          ],
          "scatterternary": [
           {
            "marker": {
             "colorbar": {
              "outlinewidth": 0,
              "ticks": ""
             }
            },
            "type": "scatterternary"
           }
          ],
          "surface": [
           {
            "colorbar": {
             "outlinewidth": 0,
             "ticks": ""
            },
            "colorscale": [
             [
              0,
              "#0d0887"
             ],
             [
              0.1111111111111111,
              "#46039f"
             ],
             [
              0.2222222222222222,
              "#7201a8"
             ],
             [
              0.3333333333333333,
              "#9c179e"
             ],
             [
              0.4444444444444444,
              "#bd3786"
             ],
             [
              0.5555555555555556,
              "#d8576b"
             ],
             [
              0.6666666666666666,
              "#ed7953"
             ],
             [
              0.7777777777777778,
              "#fb9f3a"
             ],
             [
              0.8888888888888888,
              "#fdca26"
             ],
             [
              1,
              "#f0f921"
             ]
            ],
            "type": "surface"
           }
          ],
          "table": [
           {
            "cells": {
             "fill": {
              "color": "#EBF0F8"
             },
             "line": {
              "color": "white"
             }
            },
            "header": {
             "fill": {
              "color": "#C8D4E3"
             },
             "line": {
              "color": "white"
             }
            },
            "type": "table"
           }
          ]
         },
         "layout": {
          "annotationdefaults": {
           "arrowcolor": "#2a3f5f",
           "arrowhead": 0,
           "arrowwidth": 1
          },
          "coloraxis": {
           "colorbar": {
            "outlinewidth": 0,
            "ticks": ""
           }
          },
          "colorscale": {
           "diverging": [
            [
             0,
             "#8e0152"
            ],
            [
             0.1,
             "#c51b7d"
            ],
            [
             0.2,
             "#de77ae"
            ],
            [
             0.3,
             "#f1b6da"
            ],
            [
             0.4,
             "#fde0ef"
            ],
            [
             0.5,
             "#f7f7f7"
            ],
            [
             0.6,
             "#e6f5d0"
            ],
            [
             0.7,
             "#b8e186"
            ],
            [
             0.8,
             "#7fbc41"
            ],
            [
             0.9,
             "#4d9221"
            ],
            [
             1,
             "#276419"
            ]
           ],
           "sequential": [
            [
             0,
             "#0d0887"
            ],
            [
             0.1111111111111111,
             "#46039f"
            ],
            [
             0.2222222222222222,
             "#7201a8"
            ],
            [
             0.3333333333333333,
             "#9c179e"
            ],
            [
             0.4444444444444444,
             "#bd3786"
            ],
            [
             0.5555555555555556,
             "#d8576b"
            ],
            [
             0.6666666666666666,
             "#ed7953"
            ],
            [
             0.7777777777777778,
             "#fb9f3a"
            ],
            [
             0.8888888888888888,
             "#fdca26"
            ],
            [
             1,
             "#f0f921"
            ]
           ],
           "sequentialminus": [
            [
             0,
             "#0d0887"
            ],
            [
             0.1111111111111111,
             "#46039f"
            ],
            [
             0.2222222222222222,
             "#7201a8"
            ],
            [
             0.3333333333333333,
             "#9c179e"
            ],
            [
             0.4444444444444444,
             "#bd3786"
            ],
            [
             0.5555555555555556,
             "#d8576b"
            ],
            [
             0.6666666666666666,
             "#ed7953"
            ],
            [
             0.7777777777777778,
             "#fb9f3a"
            ],
            [
             0.8888888888888888,
             "#fdca26"
            ],
            [
             1,
             "#f0f921"
            ]
           ]
          },
          "colorway": [
           "#636efa",
           "#EF553B",
           "#00cc96",
           "#ab63fa",
           "#FFA15A",
           "#19d3f3",
           "#FF6692",
           "#B6E880",
           "#FF97FF",
           "#FECB52"
          ],
          "font": {
           "color": "#2a3f5f"
          },
          "geo": {
           "bgcolor": "white",
           "lakecolor": "white",
           "landcolor": "#E5ECF6",
           "showlakes": true,
           "showland": true,
           "subunitcolor": "white"
          },
          "hoverlabel": {
           "align": "left"
          },
          "hovermode": "closest",
          "mapbox": {
           "style": "light"
          },
          "paper_bgcolor": "white",
          "plot_bgcolor": "#E5ECF6",
          "polar": {
           "angularaxis": {
            "gridcolor": "white",
            "linecolor": "white",
            "ticks": ""
           },
           "bgcolor": "#E5ECF6",
           "radialaxis": {
            "gridcolor": "white",
            "linecolor": "white",
            "ticks": ""
           }
          },
          "scene": {
           "xaxis": {
            "backgroundcolor": "#E5ECF6",
            "gridcolor": "white",
            "gridwidth": 2,
            "linecolor": "white",
            "showbackground": true,
            "ticks": "",
            "zerolinecolor": "white"
           },
           "yaxis": {
            "backgroundcolor": "#E5ECF6",
            "gridcolor": "white",
            "gridwidth": 2,
            "linecolor": "white",
            "showbackground": true,
            "ticks": "",
            "zerolinecolor": "white"
           },
           "zaxis": {
            "backgroundcolor": "#E5ECF6",
            "gridcolor": "white",
            "gridwidth": 2,
            "linecolor": "white",
            "showbackground": true,
            "ticks": "",
            "zerolinecolor": "white"
           }
          },
          "shapedefaults": {
           "line": {
            "color": "#2a3f5f"
           }
          },
          "ternary": {
           "aaxis": {
            "gridcolor": "white",
            "linecolor": "white",
            "ticks": ""
           },
           "baxis": {
            "gridcolor": "white",
            "linecolor": "white",
            "ticks": ""
           },
           "bgcolor": "#E5ECF6",
           "caxis": {
            "gridcolor": "white",
            "linecolor": "white",
            "ticks": ""
           }
          },
          "title": {
           "x": 0.05
          },
          "xaxis": {
           "automargin": true,
           "gridcolor": "white",
           "linecolor": "white",
           "ticks": "",
           "title": {
            "standoff": 15
           },
           "zerolinecolor": "white",
           "zerolinewidth": 2
          },
          "yaxis": {
           "automargin": true,
           "gridcolor": "white",
           "linecolor": "white",
           "ticks": "",
           "title": {
            "standoff": 15
           },
           "zerolinecolor": "white",
           "zerolinewidth": 2
          }
         }
        },
        "title": {
         "text": "Cestas",
         "x": 0.5,
         "y": 0.9
        },
        "xaxis": {
         "title": {
          "text": "Alimentos"
         }
        },
        "yaxis": {
         "hoverformat": ".2f",
         "showgrid": false,
         "title": {
          "text": "Preço total"
         }
        }
       }
      },
      "text/html": [
       "<div>\n",
       "        \n",
       "        \n",
       "            <div id=\"08960741-d5c9-4aaf-9212-f470ed0b9c81\" class=\"plotly-graph-div\" style=\"height:525px; width:100%;\"></div>\n",
       "            <script type=\"text/javascript\">\n",
       "                require([\"plotly\"], function(Plotly) {\n",
       "                    window.PLOTLYENV=window.PLOTLYENV || {};\n",
       "                    \n",
       "                if (document.getElementById(\"08960741-d5c9-4aaf-9212-f470ed0b9c81\")) {\n",
       "                    Plotly.newPlot(\n",
       "                        '08960741-d5c9-4aaf-9212-f470ed0b9c81',\n",
       "                        [{\"marker\": {\"color\": \"rgb(200,50,50)\", \"line\": {\"color\": \"rgb(1,1,1)\", \"width\": 2}}, \"name\": \"6 meses a 3 anos\", \"type\": \"bar\", \"x\": [\"Arroz\", \"Feij\\u00e3o\", \"Leite\", \"Macarr\\u00e3o\", \"Mucilon \"], \"y\": [5774.22, 12567.42, 37482.48, 3976.02, 19540.44]}, {\"marker\": {\"color\": \"rgb(50,200,50)\", \"line\": {\"color\": \"rgb(1,1,1)\", \"width\": 2}}, \"name\": \"3 anos a 6 anos\", \"type\": \"bar\", \"x\": [\"Arroz\", \"A\\u00e7ucar\", \"Biscoito cracker\", \"Biscoito maria\", \"Feij\\u00e3o\", \"Leite\", \"Macarr\\u00e3o\", \"Massa de milho\", \"Sal\", \"\\u00d3leo\"], \"y\": [12473.24, 4941.82, 9689.42, 12710.619999999999, 13573.82, 40484.08, 8588.84, 6430.84, 1704.8200000000002, 7747.219999999999]}, {\"marker\": {\"color\": \"rgb(50,50,200)\", \"line\": {\"color\": \"rgb(1,1,1)\", \"width\": 2}}, \"name\": \"6 anos a 15 anos\", \"type\": \"bar\", \"x\": [\"Arroz\", \"A\\u00e7ucar\", \"Biscoito cracker\", \"Biscoito maria\", \"Charque traseiro\", \"Farinha de mandioca\", \"Feij\\u00e3o\", \"Macarr\\u00e3o\", \"Massa de milho\", \"Sal\", \"\\u00d3leo\"], \"y\": [56013.98, 22192.39, 43512.590000000004, 57079.99, 119102.38999999998, 28976.090000000004, 60956.39, 38570.18, 28879.18, 7655.89, 34790.689999999995]}],\n",
       "                        {\"barmode\": \"stack\", \"font\": {\"color\": \"white\", \"family\": \"Helvetica, Helvetica\", \"size\": 15}, \"paper_bgcolor\": \"rgba(1,1,1,1)\", \"plot_bgcolor\": \"rgba(1,1,1,1)\", \"template\": {\"data\": {\"bar\": [{\"error_x\": {\"color\": \"#2a3f5f\"}, \"error_y\": {\"color\": \"#2a3f5f\"}, \"marker\": {\"line\": {\"color\": \"#E5ECF6\", \"width\": 0.5}}, \"type\": \"bar\"}], \"barpolar\": [{\"marker\": {\"line\": {\"color\": \"#E5ECF6\", \"width\": 0.5}}, \"type\": \"barpolar\"}], \"carpet\": [{\"aaxis\": {\"endlinecolor\": \"#2a3f5f\", \"gridcolor\": \"white\", \"linecolor\": \"white\", \"minorgridcolor\": \"white\", \"startlinecolor\": \"#2a3f5f\"}, \"baxis\": {\"endlinecolor\": \"#2a3f5f\", \"gridcolor\": \"white\", \"linecolor\": \"white\", \"minorgridcolor\": \"white\", \"startlinecolor\": \"#2a3f5f\"}, \"type\": \"carpet\"}], \"choropleth\": [{\"colorbar\": {\"outlinewidth\": 0, \"ticks\": \"\"}, \"type\": \"choropleth\"}], \"contour\": [{\"colorbar\": {\"outlinewidth\": 0, \"ticks\": \"\"}, \"colorscale\": [[0.0, \"#0d0887\"], [0.1111111111111111, \"#46039f\"], [0.2222222222222222, \"#7201a8\"], [0.3333333333333333, \"#9c179e\"], [0.4444444444444444, \"#bd3786\"], [0.5555555555555556, \"#d8576b\"], [0.6666666666666666, \"#ed7953\"], [0.7777777777777778, \"#fb9f3a\"], [0.8888888888888888, \"#fdca26\"], [1.0, \"#f0f921\"]], \"type\": \"contour\"}], \"contourcarpet\": [{\"colorbar\": {\"outlinewidth\": 0, \"ticks\": \"\"}, \"type\": \"contourcarpet\"}], \"heatmap\": [{\"colorbar\": {\"outlinewidth\": 0, \"ticks\": \"\"}, \"colorscale\": [[0.0, \"#0d0887\"], [0.1111111111111111, \"#46039f\"], [0.2222222222222222, \"#7201a8\"], [0.3333333333333333, \"#9c179e\"], [0.4444444444444444, \"#bd3786\"], [0.5555555555555556, \"#d8576b\"], [0.6666666666666666, \"#ed7953\"], [0.7777777777777778, \"#fb9f3a\"], [0.8888888888888888, \"#fdca26\"], [1.0, \"#f0f921\"]], \"type\": \"heatmap\"}], \"heatmapgl\": [{\"colorbar\": {\"outlinewidth\": 0, \"ticks\": \"\"}, \"colorscale\": [[0.0, \"#0d0887\"], [0.1111111111111111, \"#46039f\"], [0.2222222222222222, \"#7201a8\"], [0.3333333333333333, \"#9c179e\"], [0.4444444444444444, \"#bd3786\"], [0.5555555555555556, \"#d8576b\"], [0.6666666666666666, \"#ed7953\"], [0.7777777777777778, \"#fb9f3a\"], [0.8888888888888888, \"#fdca26\"], [1.0, \"#f0f921\"]], \"type\": \"heatmapgl\"}], \"histogram\": [{\"marker\": {\"colorbar\": {\"outlinewidth\": 0, \"ticks\": \"\"}}, \"type\": \"histogram\"}], \"histogram2d\": [{\"colorbar\": {\"outlinewidth\": 0, \"ticks\": \"\"}, \"colorscale\": [[0.0, \"#0d0887\"], [0.1111111111111111, \"#46039f\"], [0.2222222222222222, \"#7201a8\"], [0.3333333333333333, \"#9c179e\"], [0.4444444444444444, \"#bd3786\"], [0.5555555555555556, \"#d8576b\"], [0.6666666666666666, \"#ed7953\"], [0.7777777777777778, \"#fb9f3a\"], [0.8888888888888888, \"#fdca26\"], [1.0, \"#f0f921\"]], \"type\": \"histogram2d\"}], \"histogram2dcontour\": [{\"colorbar\": {\"outlinewidth\": 0, \"ticks\": \"\"}, \"colorscale\": [[0.0, \"#0d0887\"], [0.1111111111111111, \"#46039f\"], [0.2222222222222222, \"#7201a8\"], [0.3333333333333333, \"#9c179e\"], [0.4444444444444444, \"#bd3786\"], [0.5555555555555556, \"#d8576b\"], [0.6666666666666666, \"#ed7953\"], [0.7777777777777778, \"#fb9f3a\"], [0.8888888888888888, \"#fdca26\"], [1.0, \"#f0f921\"]], \"type\": \"histogram2dcontour\"}], \"mesh3d\": [{\"colorbar\": {\"outlinewidth\": 0, \"ticks\": \"\"}, \"type\": \"mesh3d\"}], \"parcoords\": [{\"line\": {\"colorbar\": {\"outlinewidth\": 0, \"ticks\": \"\"}}, \"type\": \"parcoords\"}], \"pie\": [{\"automargin\": true, \"type\": \"pie\"}], \"scatter\": [{\"marker\": {\"colorbar\": {\"outlinewidth\": 0, \"ticks\": \"\"}}, \"type\": \"scatter\"}], \"scatter3d\": [{\"line\": {\"colorbar\": {\"outlinewidth\": 0, \"ticks\": \"\"}}, \"marker\": {\"colorbar\": {\"outlinewidth\": 0, \"ticks\": \"\"}}, \"type\": \"scatter3d\"}], \"scattercarpet\": [{\"marker\": {\"colorbar\": {\"outlinewidth\": 0, \"ticks\": \"\"}}, \"type\": \"scattercarpet\"}], \"scattergeo\": [{\"marker\": {\"colorbar\": {\"outlinewidth\": 0, \"ticks\": \"\"}}, \"type\": \"scattergeo\"}], \"scattergl\": [{\"marker\": {\"colorbar\": {\"outlinewidth\": 0, \"ticks\": \"\"}}, \"type\": \"scattergl\"}], \"scattermapbox\": [{\"marker\": {\"colorbar\": {\"outlinewidth\": 0, \"ticks\": \"\"}}, \"type\": \"scattermapbox\"}], \"scatterpolar\": [{\"marker\": {\"colorbar\": {\"outlinewidth\": 0, \"ticks\": \"\"}}, \"type\": \"scatterpolar\"}], \"scatterpolargl\": [{\"marker\": {\"colorbar\": {\"outlinewidth\": 0, \"ticks\": \"\"}}, \"type\": \"scatterpolargl\"}], \"scatterternary\": [{\"marker\": {\"colorbar\": {\"outlinewidth\": 0, \"ticks\": \"\"}}, \"type\": \"scatterternary\"}], \"surface\": [{\"colorbar\": {\"outlinewidth\": 0, \"ticks\": \"\"}, \"colorscale\": [[0.0, \"#0d0887\"], [0.1111111111111111, \"#46039f\"], [0.2222222222222222, \"#7201a8\"], [0.3333333333333333, \"#9c179e\"], [0.4444444444444444, \"#bd3786\"], [0.5555555555555556, \"#d8576b\"], [0.6666666666666666, \"#ed7953\"], [0.7777777777777778, \"#fb9f3a\"], [0.8888888888888888, \"#fdca26\"], [1.0, \"#f0f921\"]], \"type\": \"surface\"}], \"table\": [{\"cells\": {\"fill\": {\"color\": \"#EBF0F8\"}, \"line\": {\"color\": \"white\"}}, \"header\": {\"fill\": {\"color\": \"#C8D4E3\"}, \"line\": {\"color\": \"white\"}}, \"type\": \"table\"}]}, \"layout\": {\"annotationdefaults\": {\"arrowcolor\": \"#2a3f5f\", \"arrowhead\": 0, \"arrowwidth\": 1}, \"coloraxis\": {\"colorbar\": {\"outlinewidth\": 0, \"ticks\": \"\"}}, \"colorscale\": {\"diverging\": [[0, \"#8e0152\"], [0.1, \"#c51b7d\"], [0.2, \"#de77ae\"], [0.3, \"#f1b6da\"], [0.4, \"#fde0ef\"], [0.5, \"#f7f7f7\"], [0.6, \"#e6f5d0\"], [0.7, \"#b8e186\"], [0.8, \"#7fbc41\"], [0.9, \"#4d9221\"], [1, \"#276419\"]], \"sequential\": [[0.0, \"#0d0887\"], [0.1111111111111111, \"#46039f\"], [0.2222222222222222, \"#7201a8\"], [0.3333333333333333, \"#9c179e\"], [0.4444444444444444, \"#bd3786\"], [0.5555555555555556, \"#d8576b\"], [0.6666666666666666, \"#ed7953\"], [0.7777777777777778, \"#fb9f3a\"], [0.8888888888888888, \"#fdca26\"], [1.0, \"#f0f921\"]], \"sequentialminus\": [[0.0, \"#0d0887\"], [0.1111111111111111, \"#46039f\"], [0.2222222222222222, \"#7201a8\"], [0.3333333333333333, \"#9c179e\"], [0.4444444444444444, \"#bd3786\"], [0.5555555555555556, \"#d8576b\"], [0.6666666666666666, \"#ed7953\"], [0.7777777777777778, \"#fb9f3a\"], [0.8888888888888888, \"#fdca26\"], [1.0, \"#f0f921\"]]}, \"colorway\": [\"#636efa\", \"#EF553B\", \"#00cc96\", \"#ab63fa\", \"#FFA15A\", \"#19d3f3\", \"#FF6692\", \"#B6E880\", \"#FF97FF\", \"#FECB52\"], \"font\": {\"color\": \"#2a3f5f\"}, \"geo\": {\"bgcolor\": \"white\", \"lakecolor\": \"white\", \"landcolor\": \"#E5ECF6\", \"showlakes\": true, \"showland\": true, \"subunitcolor\": \"white\"}, \"hoverlabel\": {\"align\": \"left\"}, \"hovermode\": \"closest\", \"mapbox\": {\"style\": \"light\"}, \"paper_bgcolor\": \"white\", \"plot_bgcolor\": \"#E5ECF6\", \"polar\": {\"angularaxis\": {\"gridcolor\": \"white\", \"linecolor\": \"white\", \"ticks\": \"\"}, \"bgcolor\": \"#E5ECF6\", \"radialaxis\": {\"gridcolor\": \"white\", \"linecolor\": \"white\", \"ticks\": \"\"}}, \"scene\": {\"xaxis\": {\"backgroundcolor\": \"#E5ECF6\", \"gridcolor\": \"white\", \"gridwidth\": 2, \"linecolor\": \"white\", \"showbackground\": true, \"ticks\": \"\", \"zerolinecolor\": \"white\"}, \"yaxis\": {\"backgroundcolor\": \"#E5ECF6\", \"gridcolor\": \"white\", \"gridwidth\": 2, \"linecolor\": \"white\", \"showbackground\": true, \"ticks\": \"\", \"zerolinecolor\": \"white\"}, \"zaxis\": {\"backgroundcolor\": \"#E5ECF6\", \"gridcolor\": \"white\", \"gridwidth\": 2, \"linecolor\": \"white\", \"showbackground\": true, \"ticks\": \"\", \"zerolinecolor\": \"white\"}}, \"shapedefaults\": {\"line\": {\"color\": \"#2a3f5f\"}}, \"ternary\": {\"aaxis\": {\"gridcolor\": \"white\", \"linecolor\": \"white\", \"ticks\": \"\"}, \"baxis\": {\"gridcolor\": \"white\", \"linecolor\": \"white\", \"ticks\": \"\"}, \"bgcolor\": \"#E5ECF6\", \"caxis\": {\"gridcolor\": \"white\", \"linecolor\": \"white\", \"ticks\": \"\"}}, \"title\": {\"x\": 0.05}, \"xaxis\": {\"automargin\": true, \"gridcolor\": \"white\", \"linecolor\": \"white\", \"ticks\": \"\", \"title\": {\"standoff\": 15}, \"zerolinecolor\": \"white\", \"zerolinewidth\": 2}, \"yaxis\": {\"automargin\": true, \"gridcolor\": \"white\", \"linecolor\": \"white\", \"ticks\": \"\", \"title\": {\"standoff\": 15}, \"zerolinecolor\": \"white\", \"zerolinewidth\": 2}}}, \"title\": {\"text\": \"Cestas\", \"x\": 0.5, \"y\": 0.9}, \"xaxis\": {\"title\": {\"text\": \"Alimentos\"}}, \"yaxis\": {\"hoverformat\": \".2f\", \"showgrid\": false, \"title\": {\"text\": \"Pre\\u00e7o total\"}}},\n",
       "                        {\"responsive\": true}\n",
       "                    ).then(function(){\n",
       "                            \n",
       "var gd = document.getElementById('08960741-d5c9-4aaf-9212-f470ed0b9c81');\n",
       "var x = new MutationObserver(function (mutations, observer) {{\n",
       "        var display = window.getComputedStyle(gd).display;\n",
       "        if (!display || display === 'none') {{\n",
       "            console.log([gd, 'removed!']);\n",
       "            Plotly.purge(gd);\n",
       "            observer.disconnect();\n",
       "        }}\n",
       "}});\n",
       "\n",
       "// Listen for the removal of the full notebook cells\n",
       "var notebookContainer = gd.closest('#notebook-container');\n",
       "if (notebookContainer) {{\n",
       "    x.observe(notebookContainer, {childList: true});\n",
       "}}\n",
       "\n",
       "// Listen for the clearing of the current output cell\n",
       "var outputEl = gd.closest('.output');\n",
       "if (outputEl) {{\n",
       "    x.observe(outputEl, {childList: true});\n",
       "}}\n",
       "\n",
       "                        })\n",
       "                };\n",
       "                });\n",
       "            </script>\n",
       "        </div>"
      ]
     },
     "metadata": {},
     "output_type": "display_data"
    }
   ],
   "source": [
    "fig = go.Figure()\n",
    "\n",
    "fig.add_trace(go.Bar(x = df.index, y = df['preço total'], \n",
    "    name = '6 meses a 3 anos', \n",
    "    marker_color = 'rgb(200,50,50)',\n",
    "    marker_line_color = 'rgb(1,1,1)',\n",
    "    marker_line_width = 2))\n",
    "\n",
    "fig.add_trace(go.Bar(x = df1.index, y = df1['preço total'], \n",
    "    name = '3 anos a 6 anos', \n",
    "    marker_color = 'rgb(50,200,50)',\n",
    "    marker_line_color = 'rgb(1,1,1)',\n",
    "    marker_line_width = 2))\n",
    "\n",
    "fig.add_trace(go.Bar(x = df2.index, y = df2['preço total'],\n",
    "    name = '6 anos a 15 anos',\n",
    "    marker_color ='rgb(50,50,200)',\n",
    "    marker_line_color = 'rgb(1,1,1)',\n",
    "    marker_line_width = 2))\n",
    "\n",
    "fig.update_layout(barmode = 'stack', \n",
    "    title_text = 'Cestas', \n",
    "    title_x = 0.5,\n",
    "    title_y = 0.9,\n",
    "    xaxis_title = 'Alimentos',\n",
    "    yaxis_title = 'Preço total',\n",
    "    paper_bgcolor = 'rgba(1,1,1,1)',\n",
    "    plot_bgcolor = 'rgba(1,1,1,1)',\n",
    "    font = dict(\n",
    "        family = 'Helvetica, Helvetica',\n",
    "        size = 15,\n",
    "        color = 'white'\n",
    "    )\n",
    ")\n",
    "\n",
    "fig.update_yaxes(hoverformat = '.2f', showgrid = False)\n",
    "\n",
    "fig.show()"
   ]
  }
 ],
 "metadata": {
  "kernelspec": {
   "display_name": "Python 3",
   "language": "python",
   "name": "python3"
  },
  "language_info": {
   "codemirror_mode": {
    "name": "ipython",
    "version": 3
   },
   "file_extension": ".py",
   "mimetype": "text/x-python",
   "name": "python",
   "nbconvert_exporter": "python",
   "pygments_lexer": "ipython3",
   "version": "3.7.4"
  }
 },
 "nbformat": 4,
 "nbformat_minor": 2
}
